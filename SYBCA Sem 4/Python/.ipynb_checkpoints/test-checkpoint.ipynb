{
 "cells": [
  {
   "cell_type": "code",
   "execution_count": null,
   "id": "5d3faef9-6781-49d8-95eb-c98d550aecac",
   "metadata": {},
   "outputs": [],
   "source": [
    "result = 10 + 20 +\\\n",
    "        30 + 40 + \\\n",
    "        50\n",
    "\n",
    "print(result)"
   ]
  },
  {
   "cell_type": "code",
   "execution_count": null,
   "id": "7151251f-80fa-480c-b5fe-7ee21be0995a",
   "metadata": {},
   "outputs": [],
   "source": [
    "num = int(input(\"Enter num: \"))\n",
    "if num == 0:\n",
    "    print(\"Number is Zero!\")\n",
    "elif num > 0:\n",
    "    print(\"Number is Positive!\")\n",
    "else\n",
    "    print(\"Number is Negative!\")"
   ]
  },
  {
   "cell_type": "code",
   "execution_count": null,
   "id": "7905ff16-7fc1-413f-a8f7-881a416ef71d",
   "metadata": {
    "scrolled": true
   },
   "outputs": [],
   "source": [
    "num = int(input(\"Enter num: \"))\n",
    "\n",
    "if num % 2 == 0:\n",
    "    print(\"Number is Even!\");\n",
    "else:\n",
    "    print(\"Number is Odd!\");"
   ]
  },
  {
   "cell_type": "code",
   "execution_count": null,
   "id": "e819d285-37a6-4648-bf14-2163781319d2",
   "metadata": {},
   "outputs": [],
   "source": [
    "total = 0\n",
    "\n",
    "while True:\n",
    "        num = int(input(\"Enter a number: \"))\n",
    "        if num == 0:\n",
    "            break\n",
    "        total += num\n",
    "\n",
    "print(\"Total is: \",total)"
   ]
  }
 ],
 "metadata": {
  "kernelspec": {
   "display_name": "Python 3 (ipykernel)",
   "language": "python",
   "name": "python3"
  },
  "language_info": {
   "codemirror_mode": {
    "name": "ipython",
    "version": 3
   },
   "file_extension": ".py",
   "mimetype": "text/x-python",
   "name": "python",
   "nbconvert_exporter": "python",
   "pygments_lexer": "ipython3",
   "version": "3.12.7"
  }
 },
 "nbformat": 4,
 "nbformat_minor": 5
}
