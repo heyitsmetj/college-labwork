{
 "cells": [
  {
   "cell_type": "code",
   "execution_count": null,
   "id": "5d3faef9-6781-49d8-95eb-c98d550aecac",
   "metadata": {},
   "outputs": [],
   "source": [
    "result = 10 + 20 +\\\n",
    "        30 + 40 + \\\n",
    "        50\n",
    "\n",
    "print(result)"
   ]
  },
  {
   "cell_type": "code",
   "execution_count": null,
   "id": "7151251f-80fa-480c-b5fe-7ee21be0995a",
   "metadata": {},
   "outputs": [],
   "source": [
    "num = int(input(\"Enter num: \"))\n",
    "if num == 0:\n",
    "    print(\"Number is Zero!\")\n",
    "elif num > 0:\n",
    "    print(\"Number is Positive!\")\n",
    "else\n",
    "    print(\"Number is Negative!\")"
   ]
  },
  {
   "cell_type": "code",
   "execution_count": null,
   "id": "7905ff16-7fc1-413f-a8f7-881a416ef71d",
   "metadata": {
    "scrolled": true
   },
   "outputs": [],
   "source": [
    "num = int(input(\"Enter num: \"))\n",
    "\n",
    "if num % 2 == 0:\n",
    "    print(\"Number is Even!\");\n",
    "else:\n",
    "    print(\"Number is Odd!\");"
   ]
  },
  {
   "cell_type": "code",
   "execution_count": 1,
   "id": "e819d285-37a6-4648-bf14-2163781319d2",
   "metadata": {},
   "outputs": [
    {
     "name": "stdin",
     "output_type": "stream",
     "text": [
      "Enter a number:  \n"
     ]
    },
    {
     "ename": "ValueError",
     "evalue": "invalid literal for int() with base 10: ''",
     "output_type": "error",
     "traceback": [
      "\u001b[0;31m---------------------------------------------------------------------------\u001b[0m",
      "\u001b[0;31mValueError\u001b[0m                                Traceback (most recent call last)",
      "Cell \u001b[0;32mIn[1], line 4\u001b[0m\n\u001b[1;32m      1\u001b[0m total \u001b[38;5;241m=\u001b[39m \u001b[38;5;241m0\u001b[39m\n\u001b[1;32m      3\u001b[0m \u001b[38;5;28;01mwhile\u001b[39;00m \u001b[38;5;28;01mTrue\u001b[39;00m:\n\u001b[0;32m----> 4\u001b[0m         num \u001b[38;5;241m=\u001b[39m \u001b[38;5;28mint\u001b[39m(\u001b[38;5;28minput\u001b[39m(\u001b[38;5;124m\"\u001b[39m\u001b[38;5;124mEnter a number: \u001b[39m\u001b[38;5;124m\"\u001b[39m))\n\u001b[1;32m      5\u001b[0m         \u001b[38;5;28;01mif\u001b[39;00m num \u001b[38;5;241m==\u001b[39m \u001b[38;5;241m0\u001b[39m:\n\u001b[1;32m      6\u001b[0m             \u001b[38;5;28;01mbreak\u001b[39;00m\n",
      "\u001b[0;31mValueError\u001b[0m: invalid literal for int() with base 10: ''"
     ]
    }
   ],
   "source": [
    "total = 0\n",
    "\n",
    "while True:\n",
    "        num = int(input(\"Enter a number: \"))\n",
    "        if num == 0:\n",
    "            break\n",
    "        total += num\n",
    "\n",
    "print(\"Total is: \",total)"
   ]
  },
  {
   "cell_type": "code",
   "execution_count": null,
   "id": "10ac27fb-a015-41a6-a6b0-299e5ca6c628",
   "metadata": {},
   "outputs": [],
   "source": []
  }
 ],
 "metadata": {
  "kernelspec": {
   "display_name": "Python 3 (ipykernel)",
   "language": "python",
   "name": "python3"
  },
  "language_info": {
   "codemirror_mode": {
    "name": "ipython",
    "version": 3
   },
   "file_extension": ".py",
   "mimetype": "text/x-python",
   "name": "python",
   "nbconvert_exporter": "python",
   "pygments_lexer": "ipython3",
   "version": "3.12.7"
  }
 },
 "nbformat": 4,
 "nbformat_minor": 5
}
